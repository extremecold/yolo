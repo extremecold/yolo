{
 "cells": [
  {
   "cell_type": "code",
   "execution_count": 11,
   "metadata": {},
   "outputs": [],
   "source": [
    "from keras.models import Model\n",
    "from keras.layers import Input, Conv2D, MaxPooling2D, Flatten, Dense, Reshape"
   ]
  },
  {
   "cell_type": "code",
   "execution_count": 12,
   "metadata": {},
   "outputs": [],
   "source": [
    "labels = open('labels.txt').read().split('\\n')"
   ]
  },
  {
   "cell_type": "code",
   "execution_count": 13,
   "metadata": {},
   "outputs": [],
   "source": [
    "IMAGE_H, IMAGE_W = 448, 448\n",
    "GRID_W, GRID_H = 7, 7\n",
    "BOX_N = 2\n",
    "CLASS_N = len(labels)"
   ]
  },
  {
   "cell_type": "code",
   "execution_count": null,
   "metadata": {},
   "outputs": [],
   "source": []
  },
  {
   "cell_type": "markdown",
   "metadata": {},
   "source": [
    "# 网络"
   ]
  },
  {
   "cell_type": "code",
   "execution_count": 30,
   "metadata": {},
   "outputs": [],
   "source": [
    "input_image = Input(shape=(IMAGE_H, IMAGE_W, 3))\n",
    "\n",
    "# layer 1\n",
    "x = Conv2D(filters=192, kernel_size=(7,7), strides=(2,2), padding='same')(input_image)\n",
    "x = MaxPooling2D(pool_size=(2,2), strides=(2,2))(x)\n",
    "\n",
    "#\n",
    "\n",
    "x = Flatten()(x)\n",
    "x = Dense(4096)(x)\n",
    "x = Dense(7*7*30)(x)\n",
    "output = Reshape((GRID_H, GRID_W, BOX_N * 5 + CLASS_N), name='output')(x)\n",
    "model = Model(input_image, output)"
   ]
  },
  {
   "cell_type": "code",
   "execution_count": 31,
   "metadata": {},
   "outputs": [
    {
     "name": "stdout",
     "output_type": "stream",
     "text": [
      "_________________________________________________________________\n",
      "Layer (type)                 Output Shape              Param #   \n",
      "=================================================================\n",
      "input_12 (InputLayer)        (None, 448, 448, 3)       0         \n",
      "_________________________________________________________________\n",
      "conv2d_11 (Conv2D)           (None, 224, 224, 192)     28416     \n",
      "_________________________________________________________________\n",
      "max_pooling2d_11 (MaxPooling (None, 112, 112, 192)     0         \n",
      "_________________________________________________________________\n",
      "flatten_10 (Flatten)         (None, 2408448)           0         \n",
      "_________________________________________________________________\n",
      "dense_15 (Dense)             (None, 4096)              9865007104\n",
      "_________________________________________________________________\n",
      "dense_16 (Dense)             (None, 1470)              6022590   \n",
      "_________________________________________________________________\n",
      "output (Reshape)             (None, 7, 7, 30)          0         \n",
      "=================================================================\n",
      "Total params: 9,871,058,110\n",
      "Trainable params: 9,871,058,110\n",
      "Non-trainable params: 0\n",
      "_________________________________________________________________\n"
     ]
    }
   ],
   "source": [
    "model.summary()"
   ]
  },
  {
   "cell_type": "code",
   "execution_count": null,
   "metadata": {},
   "outputs": [],
   "source": []
  }
 ],
 "metadata": {
  "kernelspec": {
   "display_name": "Python 3",
   "language": "python",
   "name": "python3"
  },
  "language_info": {
   "codemirror_mode": {
    "name": "ipython",
    "version": 3
   },
   "file_extension": ".py",
   "mimetype": "text/x-python",
   "name": "python",
   "nbconvert_exporter": "python",
   "pygments_lexer": "ipython3",
   "version": "3.7.1"
  }
 },
 "nbformat": 4,
 "nbformat_minor": 2
}
